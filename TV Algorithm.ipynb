{
 "cells": [
  {
   "cell_type": "markdown",
   "id": "bfa571df",
   "metadata": {},
   "source": [
    "# TV Algorithm"
   ]
  },
  {
   "cell_type": "code",
   "execution_count": 1,
   "id": "825d0635",
   "metadata": {},
   "outputs": [],
   "source": [
    "import numpy as np\n",
    "from scipy.ndimage import gaussian_filter, convolve\n",
    "from scipy.linalg import toeplitz\n",
    "from scipy.signal import fftconvolve\n",
    "from scipy.optimize import minimize\n"
   ]
  },
  {
   "cell_type": "markdown",
   "id": "f44f84b5",
   "metadata": {},
   "source": [
    "Degradation"
   ]
  },
  {
   "cell_type": "code",
   "execution_count": 2,
   "id": "087949d7",
   "metadata": {},
   "outputs": [],
   "source": [
    "def degrade_image(image, psf_size=5, noise_var=0.01):\n",
    "    psf = np.ones((psf_size, psf_size)) / (psf_size ** 2)\n",
    "    blurred = convolve(image, psf, mode='reflect')\n",
    "    noise = np.random.normal(0, np.sqrt(noise_var), image.shape)\n",
    "    return blurred + noise, psf\n"
   ]
  },
  {
   "cell_type": "markdown",
   "id": "587e9cd5",
   "metadata": {},
   "source": [
    "Convolution Matrix for Blur"
   ]
  },
  {
   "cell_type": "code",
   "execution_count": 3,
   "id": "f19b320e",
   "metadata": {},
   "outputs": [],
   "source": [
    "def create_convolution_matrix(psf, shape):\n",
    "    # Assumes circular boundary conditions\n",
    "    from scipy.signal import fftconvolve\n",
    "    kernel = np.pad(psf, [(0, shape[0] - psf.shape[0]), (0, shape[1] - psf.shape[1])], mode='constant')\n",
    "    kernel = np.roll(kernel, -np.array(psf.shape) // 2, axis=(0, 1))\n",
    "    return lambda x: fftconvolve(x, kernel, mode='same')\n",
    "\n",
    "def apply_psf(image, psf):\n",
    "    return fftconvolve(image, psf, mode='same')\n"
   ]
  },
  {
   "cell_type": "markdown",
   "id": "7eaeedd1",
   "metadata": {},
   "source": [
    "Weight Matrix from TV Prior"
   ]
  },
  {
   "cell_type": "code",
   "execution_count": 4,
   "id": "dcc0b4e3",
   "metadata": {},
   "outputs": [],
   "source": [
    "def compute_weight_matrix(x):\n",
    "    grad_x = np.gradient(x, axis=0)\n",
    "    grad_y = np.gradient(x, axis=1)\n",
    "    grad_mag = np.sqrt(grad_x**2 + grad_y**2)\n",
    "    return 1 / (grad_mag + 1e-3)  # Avoid division by zero\n"
   ]
  },
  {
   "cell_type": "markdown",
   "id": "320b4281",
   "metadata": {},
   "source": [
    "Laplacian Matrix"
   ]
  },
  {
   "cell_type": "code",
   "execution_count": 5,
   "id": "d3fd4f7e",
   "metadata": {},
   "outputs": [],
   "source": [
    "def laplacian_matrix(shape):\n",
    "    n = shape[0]\n",
    "    L = -4 * np.eye(n) + np.eye(n, k=1) + np.eye(n, k=-1)\n",
    "    return L\n"
   ]
  },
  {
   "cell_type": "markdown",
   "id": "39cecde9",
   "metadata": {},
   "source": [
    "Regularized Solver"
   ]
  },
  {
   "cell_type": "code",
   "execution_count": 6,
   "id": "64e7858a",
   "metadata": {},
   "outputs": [],
   "source": [
    "def solve_regularized(A, y, reg_param, laplacian):\n",
    "    ATA = A.T @ A + reg_param * laplacian\n",
    "    ATy = A.T @ y\n",
    "    x = np.linalg.solve(ATA, ATy)\n",
    "    return x\n"
   ]
  },
  {
   "cell_type": "markdown",
   "id": "7c6c18b5",
   "metadata": {},
   "source": [
    "## TV1"
   ]
  },
  {
   "cell_type": "code",
   "execution_count": 7,
   "id": "8195b14b",
   "metadata": {},
   "outputs": [],
   "source": [
    "def tv1_algorithm(y, psf, max_iter=50, reg_param=1e-2):\n",
    "    # Initialization\n",
    "    x = y.copy()  # Start with the degraded image as initial guess\n",
    "    h = psf.copy()\n",
    "    W = compute_weight_matrix(x)\n",
    "\n",
    "    for i in range(max_iter):\n",
    "        # Update x\n",
    "        A = create_convolution_matrix(h, y.shape)\n",
    "        L = np.eye(np.prod(y.shape))  # Simplified Laplacian for demonstration\n",
    "        x_new = np.linalg.solve(A.T @ np.diag(W.ravel()) @ A + reg_param * L, A.T @ W.ravel() @ y.ravel())\n",
    "        x = x_new.reshape(y.shape)\n",
    "\n",
    "        # Update h (placeholder for gradient-based optimization)\n",
    "        h = h  # In a full implementation, solve for h using optimization.\n",
    "\n",
    "        # Update W\n",
    "        W = compute_weight_matrix(x)\n",
    "\n",
    "        # Check convergence\n",
    "        if np.linalg.norm(x - x_new) < 1e-3:\n",
    "            break\n",
    "\n",
    "    return x, h\n"
   ]
  },
  {
   "cell_type": "markdown",
   "id": "fa788e5d",
   "metadata": {},
   "source": [
    "## TV2"
   ]
  },
  {
   "cell_type": "code",
   "execution_count": 8,
   "id": "2bd572f4",
   "metadata": {},
   "outputs": [],
   "source": [
    "def tv2_algorithm(y, psf, max_iter=50, reg_param=1e-2, gamma=1e-2):\n",
    "    # Initialize variables\n",
    "    x = y.copy()  # Start with degraded image\n",
    "    h = psf.copy()\n",
    "    laplacian = laplacian_matrix(y.shape)\n",
    "    \n",
    "    for i in range(max_iter):\n",
    "        # Step 1: Update x\n",
    "        A = lambda img: apply_psf(img, h)\n",
    "        x_new = solve_regularized(A, y, reg_param, laplacian)\n",
    "        \n",
    "        # Step 2: Update h\n",
    "        def blur_objective(h_flat):\n",
    "            h_reshaped = h_flat.reshape(psf.shape)\n",
    "            y_pred = apply_psf(x_new, h_reshaped)\n",
    "            data_fidelity = np.sum((y - y_pred) ** 2)\n",
    "            smoothness = gamma * np.sum(np.gradient(h_reshaped) ** 2)\n",
    "            return data_fidelity + smoothness\n",
    "        \n",
    "        h_flat = minimize(blur_objective, h.ravel(), method='L-BFGS-B').x\n",
    "        h = h_flat.reshape(psf.shape)\n",
    "        \n",
    "        # Step 3: Convergence check\n",
    "        if np.linalg.norm(x - x_new) < 1e-3:\n",
    "            break\n",
    "        \n",
    "        x = x_new\n",
    "\n",
    "    return x, h\n"
   ]
  }
 ],
 "metadata": {
  "kernelspec": {
   "display_name": "Python 3 (ipykernel)",
   "language": "python",
   "name": "python3"
  },
  "language_info": {
   "codemirror_mode": {
    "name": "ipython",
    "version": 3
   },
   "file_extension": ".py",
   "mimetype": "text/x-python",
   "name": "python",
   "nbconvert_exporter": "python",
   "pygments_lexer": "ipython3",
   "version": "3.10.9"
  }
 },
 "nbformat": 4,
 "nbformat_minor": 5
}
